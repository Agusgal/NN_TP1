{
 "cells": [
  {
   "cell_type": "code",
   "execution_count": 1,
   "metadata": {
    "_cell_guid": "b1076dfc-b9ad-4769-8c92-a6c4dae69d19",
    "_uuid": "8f2839f25d086af736a60e9eeb907d3b93b6e0e5",
    "tags": []
   },
   "outputs": [],
   "source": [
    "# This Python 3 environment comes with many helpful analytics libraries installed\n",
    "# It is defined by the kaggle/python Docker image: https://github.com/kaggle/docker-python\n",
    "# For example, here's several helpful packages to load\n",
    "\n",
    "import numpy as np # linear algebra\n",
    "import pandas as pd # data processing, CSV file I/O (e.g. pd.read_csv)\n",
    "\n",
    "\n",
    "# Input data files are available in the read-only \"../input/\" directory\n",
    "# For example, running this (by clicking run or pressing Shift+Enter) will list all files under the input directory\n",
    "\n",
    "import os\n",
    "for dirname, _, filenames in os.walk('/kaggle/input'):\n",
    "    for filename in filenames:\n",
    "        print(os.path.join(dirname, filename))\n",
    "\n",
    "# You can write up to 20GB to the current directory (/kaggle/working/) that gets preserved as output when you create a version using \"Save & Run All\" \n",
    "# You can also write temporary files to /kaggle/temp/, but they won't be saved outside of the current session"
   ]
  },
  {
   "cell_type": "markdown",
   "metadata": {},
   "source": [
    "# Trabajo Práctico 1\n",
    "Se buscó analizar si existe un sesgo en el dataset de snli donde el contenido mismo del texto puede estar delatando si existe una contradicción con respecto a la hipótesis oculta.\n",
    "## Carga de Datos\n",
    "Se cargaron los datasets correspondientes para observación, ya divididos en datos de entrenamiento, validación y prueba."
   ]
  },
  {
   "cell_type": "code",
   "execution_count": 3,
   "metadata": {
    "tags": []
   },
   "outputs": [],
   "source": [
    "# Cargo los datos\n",
    "df_train = pd.read_hdf(\"./train_data.hdf5\")\n",
    "df_valid = pd.read_hdf(\"./valid_data.hdf5\")\n",
    "df_test = pd.read_hdf(\"./test_data.hdf5\")"
   ]
  },
  {
   "cell_type": "code",
   "execution_count": null,
   "metadata": {
    "tags": []
   },
   "outputs": [],
   "source": [
    "df_submission = pd.read_csv(\"/kaggle/input/sesgos-en-el-dataset-de-snli/submission_sample.csv\", index_col=\"pairID\")"
   ]
  },
  {
   "cell_type": "code",
   "execution_count": 5,
   "metadata": {
    "tags": []
   },
   "outputs": [],
   "source": [
    "text_train = df_train[\"text\"].tolist()\n",
    "labels_train = df_train[\"gold_label\"].tolist()\n",
    "text_val = df_valid[\"text\"].tolist()\n",
    "labels_val = df_valid[\"gold_label\"].tolist()\n",
    "text_test = df_test[\"text\"].tolist()"
   ]
  },
  {
   "cell_type": "code",
   "execution_count": 6,
   "metadata": {
    "tags": []
   },
   "outputs": [
    {
     "data": {
      "text/plain": [
       "Counter({'contradiction': 183187, 'entailment': 183416, 'neutral': 182764})"
      ]
     },
     "execution_count": 6,
     "metadata": {},
     "output_type": "execute_result"
    }
   ],
   "source": [
    "#Veamos el balance de clases\n",
    "from collections import Counter\n",
    "Counter(labels_train)"
   ]
  },
  {
   "cell_type": "markdown",
   "metadata": {},
   "source": [
    "## Pre-procesamiento de Texto\n",
    "+ NLTK (Natural Language Toolkit)\n",
    "  + Lemmatization: reduce a sus significados (ej, quita conjugación verbal)\n",
    "  + Stop Words: quita preposiciones (como palabras muy usuales de relleno?)\n",
    "  + Stemming: reduce las palabras a su raíz\n",
    "  + Filtrado de no palabras"
   ]
  },
  {
   "cell_type": "code",
   "execution_count": 7,
   "metadata": {
    "tags": []
   },
   "outputs": [
    {
     "name": "stderr",
     "output_type": "stream",
     "text": [
      "[nltk_data] Downloading package punkt to\n",
      "[nltk_data]     C:\\Users\\ohvic\\AppData\\Roaming\\nltk_data...\n",
      "[nltk_data]   Unzipping tokenizers\\punkt.zip.\n",
      "[nltk_data] Downloading package wordnet to\n",
      "[nltk_data]     C:\\Users\\ohvic\\AppData\\Roaming\\nltk_data...\n",
      "[nltk_data]   Unzipping corpora\\wordnet.zip.\n",
      "[nltk_data] Downloading package stopwords to\n",
      "[nltk_data]     C:\\Users\\ohvic\\AppData\\Roaming\\nltk_data...\n",
      "[nltk_data]   Unzipping corpora\\stopwords.zip.\n"
     ]
    }
   ],
   "source": [
    "# Paquetes de Natural Language Tool Kit\n",
    "import nltk\n",
    "#Tokenización (a partir de este se trabajan las otras combinacionies)\n",
    "from nltk.tokenize import word_tokenize\n",
    "nltk.download('punkt')\n",
    "from nltk.stem import WordNetLemmatizer\n",
    "nltk.download('wordnet')\n",
    "lemmatizer = WordNetLemmatizer()\n",
    "from nltk.corpus import stopwords\n",
    "nltk.download('stopwords')\n",
    "from nltk.stem import PorterStemmer\n",
    "stemmer = PorterStemmer()"
   ]
  },
  {
   "cell_type": "code",
   "execution_count": 8,
   "metadata": {
    "tags": []
   },
   "outputs": [],
   "source": [
    "# Función con la cual también decido cómo pre-procesar\n",
    "def text_filter(dataset, do_lemm, do_stop, do_stem, do_alpha):\n",
    "    texts_filtrados = list()\n",
    "    for idx in range(len(dataset.text)):\n",
    "        if idx%100==0:\n",
    "            print(\"\\r Procesados: {}\".format(idx),end=\"\")\n",
    "        em = dataset.text[idx]\n",
    "        tok = word_tokenize(em)\n",
    "        if do_lemm == True:\n",
    "            lem = [lemmatizer.lemmatize(x,pos='v') for x in tok]\n",
    "        else:\n",
    "            lem = tok\n",
    "        if do_stop == True:\n",
    "            stop = [x for x in lem if x not in stopwords.words('english')]\n",
    "        else:\n",
    "            stop = lem\n",
    "        if do_stem == True:\n",
    "            stem = [stemmer.stem(x) for x in stop]\n",
    "        else:\n",
    "            stem = stop\n",
    "        if do_alpha == True:\n",
    "            alpha = [x for x in stem if x.isalpha()]\n",
    "        else:\n",
    "            alpha = stem\n",
    "        texts_filtrados.append(\" \".join(alpha))\n",
    "    return texts_filtrados"
   ]
  },
  {
   "cell_type": "markdown",
   "metadata": {},
   "source": [
    "## Vectorizadores\n",
    "+ Count Vectorizer\n",
    "+ TFIDF Vectorizer"
   ]
  },
  {
   "cell_type": "code",
   "execution_count": 9,
   "metadata": {
    "tags": []
   },
   "outputs": [],
   "source": [
    "#Importo los vectorizadores\n",
    "from sklearn.feature_extraction.text import CountVectorizer, TfidfVectorizer"
   ]
  },
  {
   "cell_type": "code",
   "execution_count": 10,
   "metadata": {
    "tags": []
   },
   "outputs": [],
   "source": [
    "df_max = 1.0 # max_df: int para frecuencia contada, float para proporcional\n",
    "df_min = 10 # min_df: idem\n",
    "n_range = (1,1) # ngram_range: (1,1) default\n",
    "cv_cv = CountVectorizer(max_df = df_max, min_df= df_min, ngram_range = n_range)"
   ]
  },
  {
   "cell_type": "code",
   "execution_count": 11,
   "metadata": {
    "tags": []
   },
   "outputs": [],
   "source": [
    "df_max = 1.0\n",
    "df_min = 10\n",
    "n_range = (1,1)\n",
    "cv_idf = TfidfVectorizer(max_df = df_max, min_df= df_min, ngram_range = n_range)"
   ]
  },
  {
   "cell_type": "code",
   "execution_count": 12,
   "metadata": {
    "tags": []
   },
   "outputs": [],
   "source": [
    "def get_cvs(text_train, text_valid, cv):\n",
    "    cv_train = cv.fit_transform(text_train)\n",
    "    cv_valid = cv.transform(text_valid)\n",
    "    return cv_train, cv_valid"
   ]
  },
  {
   "cell_type": "markdown",
   "metadata": {},
   "source": [
    "## Calisificadores\n",
    "+ Multinomial Naive-Bayes\n",
    "+ Regresión Logística (MLP)"
   ]
  },
  {
   "cell_type": "markdown",
   "metadata": {},
   "source": [
    "### Multinomial Naive-Bayes"
   ]
  },
  {
   "cell_type": "code",
   "execution_count": 13,
   "metadata": {
    "tags": []
   },
   "outputs": [],
   "source": [
    "from sklearn.naive_bayes import MultinomialNB"
   ]
  },
  {
   "cell_type": "code",
   "execution_count": 14,
   "metadata": {
    "tags": []
   },
   "outputs": [],
   "source": [
    "# Parámetros del Clasificador\n",
    "a = 1e-10\n",
    "clf_NBMN = MultinomialNB(alpha = a)"
   ]
  },
  {
   "cell_type": "markdown",
   "metadata": {},
   "source": [
    "### Multilevel Perceptrons"
   ]
  },
  {
   "cell_type": "code",
   "execution_count": 15,
   "metadata": {
    "tags": []
   },
   "outputs": [],
   "source": [
    "import tensorflow as tf\n",
    "#from tensorflow.keras.models import Sequential\n",
    "#from tensorflow.keras.layers import Dense"
   ]
  },
  {
   "cell_type": "markdown",
   "metadata": {},
   "source": [
    "# WIP\n",
    "model = Sequential()\n",
    "model.add(Dense(hidden_units, input_shape=(input_dim,), activation='relu'))\n",
    "model.add(Dense(10, activation='tanh'))\n",
    "model.add(Dense(1, activation='sigmoid'))\n",
    "model.summary()\n",
    "\n",
    "# Dimm capa entrada: num de vocablos\n",
    "# Dimm capa salida: 3"
   ]
  },
  {
   "cell_type": "markdown",
   "metadata": {},
   "source": [
    "# Métricas\n",
    "Las metricas de evaluacion que se utilizan para evaluar un metodo de clasificacion y ademas comparar varios metodos de clasificacion aplicados a un mismo conjunto de datos. Tambien se puede evaluar el comportamiento dado por un cambio de parametros en un metodo. \n",
    "La evaluacion del modelo se hace a partir de los datos que se encuentran en test, siendo clasidicacion supervisada. \n",
    "Hay que considerar los distintos tipos de datos para las metricas de evaluacion: \n",
    "\n",
    "\t* Verdaderos positivos: El valor real es positivo y  la prueba predijo tambien que era positivo.\n",
    "\t* Verdaderos Negativos: El valor real  es negativo y la prueba predijo tambien que el resultado era negativo.\n",
    "\t* Falsos positivos: El valor real es negativo, y la prueba predijo  que el resultado es positivo. \n",
    "\t* Falsos negativos: El valor real es positivo, y la prueba predijo  que el resultado es negativo. \n",
    "\n",
    "Se utilizaron metricas para la evaluacion del rendimiento, siendo estas:\n",
    "\t* precision\n",
    "\t* recall_score\n",
    "\t* f1_score\n",
    "\t* ROC AUG\n",
    "Ninguno de estos criterios por separado da una buena evaluacion de un metodo de clasificacion y hay que utilizar varios criterios al mismo tiempo.\n",
    "\n",
    "La curva ROC es el grafico de la tasa de verdaderos positivos contra la tasa de falsos positivos. Luego es posible analizar el error en la clasificacion midiendo el area debajo de la curva. Cuanto mas cerca de 1 este el area, mejor sera la clasificacion. El area debajo de la curva ROC o AUG es una metrica que puede ser\n",
    "utilizada para comparar diferentes test de clasificacion. Es una medida de la precision del test. Se calcula con un metodo de integracion numerica.\n",
    "\n",
    "Se calcularon todas pero a la hora de pensar en la robustez de un metodo hay que tener en cuenta las ventajas y las desventajas que tiene cada uno de las metricas. \n",
    "Con la métrica de precisión podemos medir la calidad del modelo de machine learning en tareas de clasificación. Se refiere a la dispersión del conjunto de valores obtenidos a partir de mediciones repetidas de una magnitud. Cuanto menor es la dispersión mayor la precisión. Se representa por la proporción de verdaderos positivos dividido entre todos los resultados positivos (tanto verdaderos positivos, como falsos positivos).\n",
    "\n",
    "$$precision = \\frac{TP}{TP + FP}$$\n",
    "\n",
    "La métrica de exhaustividad nos va a informar sobre la cantidad que el modelo de machine learning es capaz de identificar. Es tambien llamada tasa de verdaderos positivos es la probabilidad de que un resultado positivo real dé positivo.\n",
    "\n",
    "$$recall = \\frac{TP}{TP + FN}$$\n",
    "\n",
    "El valor F1 se utiliza para combinar las medidas de precision y recall en un sólo valor. Esto es práctico porque hace más fácil el poder comparar el rendimiento combinado de la precisión y la exhaustividad entre varias soluciones. Es de gran utilidad cuando la distribución de las clases es desigual.\n",
    "$$F1 = 2 \\cdot \\frac{precision \\cdot recall}{precision + recall} $$\n",
    "\n",
    "Hay otra metrica llamada *accuracy* que mide el porcentaje de casos que el modelo ha acertado. Esta no funciona bien cuando las clases están desbalanceadas. En este caso se pudo ver que las clases estaban bien balanceadas por lo que se opto la misma como metrica primaria. Si no hubiese sido asi, es decir las clases desbalanceadas, es mucho mejor usar precision, recall y F1. Estas métricas dan una mejor idea de la calidad del modelo.\n",
    "$$accuracy = \\frac{TP + TN}{TP + TN + FP + FN}$$\n",
    "\n",
    "El sesgo es la diferencia entre el valor medio y el verdadero valor de la magnitud medida. El sesgo pertenece al concepto de exactitud.\n",
    "\n",
    "Conforme a las metricas mencionadas podemos obtener cuatro casos posibles para cada clase:\n",
    "\n",
    "* **Alta precisión y alto recall:** el modelo de Machine Learning escogido maneja perfectamente esa clase.\n",
    "* **Alta precisión y bajo recall:** el modelo de Machine Learning escogido no detecta la clase muy bien, pero cuando lo hace es altamente confiable.\n",
    "* **Baja precisión y alto recall:** El modelo de Machine Learning escogido detecta bien la clase,  pero también incluye muestras de la otra clase.\n",
    "* **Baja precisión y bajo recall:** El modelo de Machine Learning escogido no logra clasificar la clase correctamente.\n",
    "\n",
    "Para un *dataset* desequilibrado se puede caer en la obtencion de un alto valor de precisión en la clase Mayoritaria y un bajo recall en la clase Minoritaria. "
   ]
  },
  {
   "cell_type": "code",
   "execution_count": 16,
   "metadata": {
    "tags": []
   },
   "outputs": [],
   "source": [
    "from sklearn import metrics"
   ]
  },
  {
   "cell_type": "code",
   "execution_count": 17,
   "metadata": {
    "tags": []
   },
   "outputs": [],
   "source": [
    "def get_scores(clf, X_train, y_train, X_valid, y_valid):\n",
    "    clf.fit(X_train, y_train)\n",
    "    y_pred = clf.predict(X_valid)\n",
    "    \n",
    "    score_train = clf.score(X_train, y_train)\n",
    "    score_valid = clf.score(X_valid, y_valid)\n",
    "    return (score_train, score_valid)\n",
    "    \n",
    "def get_metrics(clf, X_valid, y_valid):\n",
    "    y_pred = clf.predict(X_test)\n",
    "    m_conf = metrics.confusion_matrix(y_valid, y_pred)\n",
    "    precision = metrics.precision_score(y_valid, y_pred)\n",
    "    recall_score = metrics.recall_score(y_valid,y_pred)\n",
    "    f1_score = metrics.f1_score(y_valid,y_pred)\n",
    "    acc = metrics.accuracy_score(y_valid, y_pred)\n",
    "    \n",
    "    return score_train, score_valid, m_conf, precision, recall_score, f1_score, acc"
   ]
  },
  {
   "cell_type": "code",
   "execution_count": 18,
   "metadata": {
    "tags": []
   },
   "outputs": [],
   "source": [
    "# Función que hace todo lo anterior de una\n",
    "def process_data(clf, cv, df_train, df_valid, do_lemm, do_stop, do_stem, do_alpha):\n",
    "    print(\"\\n  Filtrando Textos\")\n",
    "    texts_train = text_filter(df_train, do_lemm, do_stop, do_stem, do_alpha)\n",
    "    texts_valid = text_filter(df_valid, do_lemm, do_stop, do_stem, do_alpha)\n",
    "    \n",
    "    labels_train = df_train[\"gold_label\"].tolist()\n",
    "    labels_valid = df_valid[\"gold_label\"].tolist()\n",
    "    \n",
    "    print(\"\\nVectorizando\")\n",
    "    cv_train, cv_valid = get_cvs(texts_train, texts_valid, cv)\n",
    "    \n",
    "    print(\"Obteniendo Puntajes\")\n",
    "    score_train, score_valid = get_scores(clf, cv_train, labels_train, cv_valid, labels_valid)\n",
    "    return (cv_train, cv_valid, score_train, score_valid)"
   ]
  },
  {
   "cell_type": "code",
   "execution_count": 19,
   "metadata": {
    "tags": []
   },
   "outputs": [
    {
     "name": "stdout",
     "output_type": "stream",
     "text": [
      "\n",
      "  Filtrando Textos\n",
      " Procesados: 980000\n",
      "Vectorizando\n",
      "Obteniendo Puntajes\n",
      "\n",
      "  Filtrando Textos\n",
      " Procesados: 980000\n",
      "Vectorizando\n",
      "Obteniendo Puntajes\n",
      "\n",
      "  Filtrando Textos\n",
      " Procesados: 980000\n",
      "Vectorizando\n",
      "Obteniendo Puntajes\n",
      "\n",
      "  Filtrando Textos\n",
      " Procesados: 980000\n",
      "Vectorizando\n",
      "Obteniendo Puntajes\n",
      "\n",
      "  Filtrando Textos\n",
      " Procesados: 980000\n",
      "Vectorizando\n",
      "Obteniendo Puntajes\n"
     ]
    }
   ],
   "source": [
    "test_raw = process_data(clf_NBMN, cv_cv, df_train, df_valid, False, False, False, False)\n",
    "test_lemm = process_data(clf_NBMN, cv_cv, df_train, df_valid, True, False, False, False)\n",
    "test_stop = process_data(clf_NBMN, cv_cv, df_train, df_valid, False, True, False, False)\n",
    "test_stem = process_data(clf_NBMN, cv_cv, df_train, df_valid, False, False, True, False)\n",
    "test_alfa = process_data(clf_NBMN, cv_cv, df_train, df_valid, False, False, False, True)"
   ]
  },
  {
   "cell_type": "code",
   "execution_count": 20,
   "metadata": {
    "tags": []
   },
   "outputs": [
    {
     "name": "stdout",
     "output_type": "stream",
     "text": [
      "Train/Valid:\n",
      "raw:   0.6220704920390194 ;  0.6228408859987807\n",
      "lemm:  0.6174324267748154 ;  0.6197927250558829\n",
      "stop:  0.6136462510489346 ;  0.6184718553139605\n",
      "stem:  0.6168572193087681 ;  0.6187766714082503\n",
      "alfa:  0.6215644550910412 ;  0.6224344645397277\n"
     ]
    }
   ],
   "source": [
    "print(\"Train/Valid:\")\n",
    "print(\"raw:  \",  test_raw[2],\"; \",  test_raw[3])\n",
    "print(\"lemm: \", test_lemm[2],\"; \", test_lemm[3])\n",
    "print(\"stop: \", test_stop[2],\"; \", test_stop[3])\n",
    "print(\"stem: \", test_stem[2],\"; \", test_stem[3])\n",
    "print(\"alfa: \", test_alfa[2],\"; \", test_alfa[3])"
   ]
  },
  {
   "cell_type": "markdown",
   "metadata": {},
   "source": [
    "Observando los resultados de estas pruebas, parece ser que aplicar cualquiera de los filtros de lenguaje natural resulta en una disminusión en la capacidad del modelo de predecir correctamente los resultados deseados. Esto puede deberse a que existe información dentro de cada elemento eliminado que podría llevar a concluir si la frase es contradictoria, neutral o afirmativa.\n",
    "\n",
    "Debido a esto, se procederá a trabajar con los datos sin aplicar los filtros del paquete NLTK."
   ]
  },
  {
   "cell_type": "code",
   "execution_count": 27,
   "metadata": {
    "tags": []
   },
   "outputs": [],
   "source": [
    "# Finalmente se trabaja sin filtros\n",
    "text_train_final = text_train\n",
    "text_valid_final = text_val"
   ]
  },
  {
   "cell_type": "markdown",
   "metadata": {},
   "source": [
    "Definido el pre-procesamiento se analizó si se obtienen mejores resultados utilizando el CountVectorizer o TFIDFVectorizer."
   ]
  },
  {
   "cell_type": "code",
   "execution_count": 28,
   "metadata": {
    "tags": []
   },
   "outputs": [],
   "source": [
    "df_max = 1.0 # max_df: int para frecuencia contada, float para proporcional\n",
    "df_min = 10 # min_df: idem\n",
    "n_range = (1,2) # ngram_range: (1,1) default"
   ]
  },
  {
   "cell_type": "code",
   "execution_count": 29,
   "metadata": {
    "tags": []
   },
   "outputs": [],
   "source": [
    "cv_cv = CountVectorizer(max_df = df_max, min_df= df_min, ngram_range = n_range)\n",
    "cv_idf = TfidfVectorizer(max_df = df_max, min_df= df_min, ngram_range = n_range)"
   ]
  },
  {
   "cell_type": "code",
   "execution_count": 30,
   "metadata": {
    "tags": []
   },
   "outputs": [
    {
     "name": "stdout",
     "output_type": "stream",
     "text": [
      "(0.6493109342206576, 0.638996138996139)\n",
      "(0.6588510048838027, 0.6470229628124365)\n"
     ]
    }
   ],
   "source": [
    "cv_train, cv_valid = get_cvs(text_train_final, text_valid_final, cv_cv)\n",
    "cv_scores = get_scores(clf_NBMN, cv_train, labels_train, cv_valid, labels_val)\n",
    "cv_train, cv_valid = get_cvs(text_train_final, text_valid_final, cv_idf)\n",
    "idf_scores = get_scores(clf_NBMN, cv_train, labels_train, cv_valid, labels_val)\n",
    "\n",
    "print(cv_scores)\n",
    "print(idf_scores)"
   ]
  },
  {
   "cell_type": "markdown",
   "metadata": {},
   "source": [
    "Bajo las mismas condiciones el TFIDF Vectorizer parece tener un mejor rendimiento a la hora de predecir los resultados correctamente. Por lo tanto las siguientes pruebas se harán con el TFIDF.\n",
    "\n"
   ]
  },
  {
   "cell_type": "code",
   "execution_count": 31,
   "metadata": {
    "tags": []
   },
   "outputs": [],
   "source": [
    "# Hago un Sweep para optimizar el min_df\n",
    "train_scores = list()\n",
    "valid_scores = list()\n",
    "df_mins = range(5,15,1)\n",
    "for i in df_mins:\n",
    "    cv = TfidfVectorizer(max_df = df_max, min_df= i, ngram_range = n_range)\n",
    "    cv_train, cv_valid = get_cvs(text_train_final, text_valid_final, cv)\n",
    "    scores = get_scores(clf_NBMN, cv_train, labels_train, cv_valid, labels_val)\n",
    "    train_scores.append(scores[0])\n",
    "    valid_scores.append(scores[1])"
   ]
  },
  {
   "cell_type": "code",
   "execution_count": 32,
   "metadata": {
    "tags": []
   },
   "outputs": [
    {
     "data": {
      "text/plain": [
       "[<matplotlib.lines.Line2D at 0x176c7b81100>]"
      ]
     },
     "execution_count": 32,
     "metadata": {},
     "output_type": "execute_result"
    },
    {
     "data": {
      "image/png": "[encoded data removed]",
      "text/plain": [
       "<Figure size 432x288 with 1 Axes>"
      ]
     },
     "metadata": {
      "needs_background": "light"
     },
     "output_type": "display_data"
    }
   ],
   "source": [
    "import matplotlib.pyplot as plt\n",
    "plt.plot(df_mins,train_scores)\n",
    "plt.plot(df_mins,valid_scores)"
   ]
  },
  {
   "cell_type": "markdown",
   "metadata": {},
   "source": [
    "Con un min_df = 8 se obtuvo el score_valid más alto."
   ]
  },
  {
   "cell_type": "code",
   "execution_count": null,
   "metadata": {},
   "outputs": [],
   "source": [
    "# Puedo hacer el sweep para ver qué onda si cambio max_df"
   ]
  },
  {
   "cell_type": "markdown",
   "metadata": {},
   "source": [
    "Algo pasa más arriba de acá"
   ]
  },
  {
   "cell_type": "code",
   "execution_count": 33,
   "metadata": {},
   "outputs": [
    {
     "ename": "NameError",
     "evalue": "name 'clf' is not defined",
     "output_type": "error",
     "traceback": [
      "\u001b[1;31m---------------------------------------------------------------------------\u001b[0m",
      "\u001b[1;31mNameError\u001b[0m                                 Traceback (most recent call last)",
      "\u001b[1;32m~\\AppData\\Local\\Temp/ipykernel_15592/3388480427.py\u001b[0m in \u001b[0;36m<module>\u001b[1;34m\u001b[0m\n\u001b[1;32m----> 1\u001b[1;33m \u001b[0mclf\u001b[0m\u001b[1;33m.\u001b[0m\u001b[0mfit\u001b[0m\u001b[1;33m(\u001b[0m\u001b[0mcv_train\u001b[0m\u001b[1;33m,\u001b[0m \u001b[0mlabels_train\u001b[0m\u001b[1;33m)\u001b[0m\u001b[1;33m\u001b[0m\u001b[1;33m\u001b[0m\u001b[0m\n\u001b[0m\u001b[0;32m      2\u001b[0m \u001b[0mlabels_pred\u001b[0m \u001b[1;33m=\u001b[0m \u001b[0mclf\u001b[0m\u001b[1;33m.\u001b[0m\u001b[0mpredict\u001b[0m\u001b[1;33m(\u001b[0m\u001b[0mcv_valid\u001b[0m\u001b[1;33m)\u001b[0m\u001b[1;33m\u001b[0m\u001b[1;33m\u001b[0m\u001b[0m\n",
      "\u001b[1;31mNameError\u001b[0m: name 'clf' is not defined"
     ]
    }
   ],
   "source": [
    "clf.fit(cv_train, labels_train)\n",
    "labels_pred = clf.predict(cv_valid)"
   ]
  },
  {
   "cell_type": "code",
   "execution_count": null,
   "metadata": {},
   "outputs": [],
   "source": [
    "#Veamos cómo funciona el clasificador para train\n",
    "clf.score(cv_train, labels_train)"
   ]
  },
  {
   "cell_type": "code",
   "execution_count": null,
   "metadata": {},
   "outputs": [],
   "source": [
    "# Veamos cómo funciona el clasificador para valid\n",
    "clf.score(cv_valid, labels_val)"
   ]
  },
  {
   "cell_type": "code",
   "execution_count": null,
   "metadata": {},
   "outputs": [],
   "source": [
    "cv_test = cv.transform(text_test_final)\n",
    "get_metrics(clf, cv_test, labels_test)\n",
    "# test_labels = clf.predict(cv_test)"
   ]
  },
  {
   "cell_type": "markdown",
   "metadata": {},
   "source": [
    "## Modelo Final"
   ]
  },
  {
   "cell_type": "code",
   "execution_count": 60,
   "metadata": {
    "execution": {
     "iopub.execute_input": "2021-09-30T23:10:56.758334Z",
     "iopub.status.busy": "2021-09-30T23:10:56.758071Z",
     "iopub.status.idle": "2021-09-30T23:11:11.004797Z",
     "shell.execute_reply": "2021-09-30T23:11:11.004015Z",
     "shell.execute_reply.started": "2021-09-30T23:10:56.758307Z"
    }
   },
   "outputs": [],
   "source": [
    "# Parámetros de Pre-procesamiento (sin procesamiento)\n",
    "text_train_final = text_train\n",
    "text_valid_final = text_val\n",
    "\n",
    "# Parámetros del Count Vectorizer\n",
    "df_max = 1.0 # max_df: int para frecuencia contada, float para proporcional\n",
    "df_min = 8 # min_df: obtenido de una curva\n",
    "n_range = (1,2) # ngram_range: (1,1) default\n",
    "\n",
    "cv = TfidfVectorizer(max_df = df_max, min_df= df_min, ngram_range = n_range)\n",
    "\n",
    "# Parámetros del Clasificador\n",
    "a = 1e-4\n",
    "clf = MultinomialNB(alpha = a)\n",
    "\n",
    "cv_train = cv.fit_transform(text_train_final)\n",
    "cv_val = cv.transform(text_valid_final)\n",
    "clf.fit(cv_train, labels_train)\n",
    "\n",
    "cv_test = cv.transform(text_test)\n",
    "test_labels = clf.predict(cv_test)\n",
    "\n",
    "get_metrics(clf, cv_val, labels_val)"
   ]
  },
  {
   "cell_type": "markdown",
   "metadata": {},
   "source": [
    "## Métricas del modelo final"
   ]
  },
  {
   "cell_type": "code",
   "execution_count": null,
   "metadata": {},
   "outputs": [],
   "source": []
  },
  {
   "cell_type": "markdown",
   "metadata": {},
   "source": [
    "# Para armar Submission\n",
    "Una vez elegido el grado de pre-procesamiento, el vectorizador y el clasificador, lo aplico sobre el el test.\n",
    "+ Preprocesamiento: Lemmatization, Stemming y No-Palabras\n",
    "+ Vectorizador: TFIDF\n",
    "+ Clasificador: Multinomial Naive-Bayes"
   ]
  },
  {
   "cell_type": "code",
   "execution_count": 61,
   "metadata": {
    "execution": {
     "iopub.execute_input": "2021-09-30T23:11:16.015681Z",
     "iopub.status.busy": "2021-09-30T23:11:16.015374Z",
     "iopub.status.idle": "2021-09-30T23:11:16.022765Z",
     "shell.execute_reply": "2021-09-30T23:11:16.021643Z",
     "shell.execute_reply.started": "2021-09-30T23:11:16.015647Z"
    }
   },
   "outputs": [],
   "source": [
    "#Armo el submission.csv\n",
    "df_test = pd.DataFrame(data=test_labels, columns=[\"pred_labels\"],)"
   ]
  },
  {
   "cell_type": "code",
   "execution_count": 62,
   "metadata": {
    "execution": {
     "iopub.execute_input": "2021-09-30T23:11:19.912203Z",
     "iopub.status.busy": "2021-09-30T23:11:19.911878Z",
     "iopub.status.idle": "2021-09-30T23:11:19.927182Z",
     "shell.execute_reply": "2021-09-30T23:11:19.926050Z",
     "shell.execute_reply.started": "2021-09-30T23:11:19.912173Z"
    }
   },
   "outputs": [],
   "source": [
    "df_test.head()"
   ]
  },
  {
   "cell_type": "code",
   "execution_count": 63,
   "metadata": {
    "execution": {
     "iopub.execute_input": "2021-09-30T23:11:30.239971Z",
     "iopub.status.busy": "2021-09-30T23:11:30.239675Z",
     "iopub.status.idle": "2021-09-30T23:11:30.244073Z",
     "shell.execute_reply": "2021-09-30T23:11:30.243080Z",
     "shell.execute_reply.started": "2021-09-30T23:11:30.239919Z"
    }
   },
   "outputs": [],
   "source": [
    "df_test.index.names = [\"pairID\"]"
   ]
  },
  {
   "cell_type": "code",
   "execution_count": 64,
   "metadata": {
    "execution": {
     "iopub.execute_input": "2021-09-30T23:11:32.944424Z",
     "iopub.status.busy": "2021-09-30T23:11:32.943772Z",
     "iopub.status.idle": "2021-09-30T23:11:32.957075Z",
     "shell.execute_reply": "2021-09-30T23:11:32.956462Z",
     "shell.execute_reply.started": "2021-09-30T23:11:32.944384Z"
    }
   },
   "outputs": [],
   "source": [
    "df_test"
   ]
  },
  {
   "cell_type": "code",
   "execution_count": 65,
   "metadata": {
    "execution": {
     "iopub.execute_input": "2021-09-30T23:11:39.729730Z",
     "iopub.status.busy": "2021-09-30T23:11:39.728868Z",
     "iopub.status.idle": "2021-09-30T23:11:39.764287Z",
     "shell.execute_reply": "2021-09-30T23:11:39.763581Z",
     "shell.execute_reply.started": "2021-09-30T23:11:39.729688Z"
    }
   },
   "outputs": [],
   "source": [
    "df_test.to_csv(\"submission.csv\")"
   ]
  },
  {
   "cell_type": "markdown",
   "metadata": {},
   "source": [
    "# Conclusiones\n",
    "A partir de las métricas obtenidas por el momento se puede decir que existe un sesgo en la selección de textos para la validación de premisas en el *dataset* de SNLI, dado que es posible obtener resultados correctos en el 65% de los casos, incluso con una baja cantidad de optimizaciones, a partir de solo las hipótesis y desconocer las premisas correspondientes."
   ]
  }
 ],
 "metadata": {
  "kernelspec": {
   "display_name": "Python [conda env:rn_tp1]",
   "language": "python",
   "name": "conda-env-rn_tp1-py"
  },
  "language_info": {
   "codemirror_mode": {
    "name": "ipython",
    "version": 3
   },
   "file_extension": ".py",
   "mimetype": "text/x-python",
   "name": "python",
   "nbconvert_exporter": "python",
   "pygments_lexer": "ipython3",
   "version": "3.8.10"
  }
 },
 "nbformat": 4,
 "nbformat_minor": 4
}
